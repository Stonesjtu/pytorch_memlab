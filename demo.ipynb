{
 "cells": [
  {
   "cell_type": "code",
   "execution_count": 1,
   "metadata": {},
   "outputs": [],
   "source": [
    "%load_ext pytorch_memlab"
   ]
  },
  {
   "cell_type": "code",
   "execution_count": 2,
   "metadata": {},
   "outputs": [
    {
     "data": {
      "text/plain": [
       "\u001b[0;31mDocstring:\u001b[0m\n",
       "::\n",
       "\n",
       "  %mlrun [--function FUNC] [statement [statement ...]]\n",
       "\n",
       "Execute a statement/cell under the PyTorch Memlab profiler to collect CUDA memory\n",
       "allocation information on a per-line basis.\n",
       "\n",
       "positional arguments:\n",
       "  statement             Code to run under profiler. You can omit this in cell\n",
       "                        magic mode.\n",
       "\n",
       "optional arguments:\n",
       "  --function FUNC, -f FUNC\n",
       "                        Function to profile. Can be specified multiple times\n",
       "\u001b[0;31mFile:\u001b[0m      ~/pytorch_memlab/pytorch_memlab/extension.py\n"
      ]
     },
     "metadata": {},
     "output_type": "display_data"
    }
   ],
   "source": [
    "%%mlrun?"
   ]
  },
  {
   "cell_type": "code",
   "execution_count": 3,
   "metadata": {},
   "outputs": [],
   "source": [
    "import torch\n",
    "\n",
    "def x():\n",
    "    torch.nn.Linear(100, 100).cuda()\n",
    "    \n",
    "def y():\n",
    "    torch.nn.Linear(1000, 100).cuda()"
   ]
  },
  {
   "cell_type": "code",
   "execution_count": 4,
   "metadata": {},
   "outputs": [
    {
     "name": "stdout",
     "output_type": "stream",
     "text": [
      "File: <ipython-input-3-4c9c885ed75c>\n",
      "Function: x at line 3\n",
      "\n",
      "Line # Max usage   Peak usage diff max diff peak  Line Contents\n",
      "===============================================================\n",
      "     3                                           def x():\n",
      "     4     0.00B        2.00M    0.00B    2.00M      torch.nn.Linear(100, 100).cuda()\n",
      "\n"
     ]
    }
   ],
   "source": [
    "%mlrun -f x x()"
   ]
  },
  {
   "cell_type": "code",
   "execution_count": 6,
   "metadata": {},
   "outputs": [
    {
     "name": "stdout",
     "output_type": "stream",
     "text": [
      "File: <ipython-input-3-4c9c885ed75c>\n",
      "Function: x at line 3\n",
      "\n",
      "Line # Max usage   Peak usage diff max diff peak  Line Contents\n",
      "===============================================================\n",
      "     3                                           def x():\n",
      "     4     0.00B        2.00M    0.00B    2.00M      torch.nn.Linear(100, 100).cuda()\n",
      "\n",
      "File: <ipython-input-3-4c9c885ed75c>\n",
      "Function: y at line 6\n",
      "\n",
      "Line # Max usage   Peak usage diff max diff peak  Line Contents\n",
      "===============================================================\n",
      "     6                                           def y():\n",
      "     7     0.00B        2.00M    0.00B    2.00M      torch.nn.Linear(1000, 100).cuda()\n",
      "\n"
     ]
    }
   ],
   "source": [
    "%%mlrun -f x -f y\n",
    "\n",
    "x()\n",
    "y()"
   ]
  }
 ],
 "metadata": {
  "kernelspec": {
   "display_name": "Python [conda env:memlab]",
   "language": "python",
   "name": "conda-env-memlab-py"
  },
  "language_info": {
   "codemirror_mode": {
    "name": "ipython",
    "version": 3
   },
   "file_extension": ".py",
   "mimetype": "text/x-python",
   "name": "python",
   "nbconvert_exporter": "python",
   "pygments_lexer": "ipython3",
   "version": "3.7.6"
  }
 },
 "nbformat": 4,
 "nbformat_minor": 4
}
