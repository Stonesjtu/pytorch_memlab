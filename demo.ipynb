{
 "cells": [
  {
   "cell_type": "markdown",
   "metadata": {},
   "source": [
    "Once installed, you need to load the `pytorch_memlab` IPython extensions:"
   ]
  },
  {
   "cell_type": "code",
   "execution_count": 1,
   "metadata": {},
   "outputs": [],
   "source": [
    "%load_ext pytorch_memlab"
   ]
  },
  {
   "cell_type": "markdown",
   "metadata": {},
   "source": [
    "One magic is provided, `mlrun` which can act either as a line magic `%mlrun`, or as a cell magic `%%mlrun`"
   ]
  },
  {
   "cell_type": "code",
   "execution_count": 2,
   "metadata": {},
   "outputs": [
    {
     "data": {
      "text/plain": [
       "\u001b[0;31mDocstring:\u001b[0m\n",
       "::\n",
       "\n",
       "  %mlrun [--function FUNC] [-r] [-T OUTPUT] [-g GPU_ID] [-q]\n",
       "             [statement [statement ...]]\n",
       "\n",
       "Execute a statement/cell under the PyTorch Memlab profiler to collect CUDA memory\n",
       "allocation information on a per-line basis.\n",
       "\n",
       "positional arguments:\n",
       "  statement             Code to run under profiler. You can omit this in cell\n",
       "                        magic mode.\n",
       "\n",
       "optional arguments:\n",
       "  --function FUNC, -f FUNC\n",
       "                        Function to profile. Can be specified multiple times\n",
       "  -r, --return-profiler\n",
       "                        Return LineProfiler object for introspection\n",
       "  -T OUTPUT, --dump-profile OUTPUT\n",
       "                        Dump text profile output to file\n",
       "  -g GPU_ID, --gpu GPU_ID\n",
       "                        Profile memory usage of GPU ID\n",
       "  -q, --quiet           Don't print out profile results\n",
       "\u001b[0;31mFile:\u001b[0m      ~/pytorch_memlab/pytorch_memlab/extension.py\n"
      ]
     },
     "metadata": {},
     "output_type": "display_data"
    }
   ],
   "source": [
    "%%mlrun?"
   ]
  },
  {
   "cell_type": "markdown",
   "metadata": {},
   "source": [
    "First we need some torch code to profile:"
   ]
  },
  {
   "cell_type": "code",
   "execution_count": 3,
   "metadata": {},
   "outputs": [],
   "source": [
    "import torch\n",
    "\n",
    "def x():\n",
    "    torch.nn.Linear(100, 100).cuda()\n",
    "    \n",
    "def y(gpu=0):\n",
    "    torch.nn.Linear(1000, 100).cuda(device=gpu)"
   ]
  },
  {
   "cell_type": "markdown",
   "metadata": {},
   "source": [
    "We can profile multiple functions at the same type by repeatedly specifying `-f`"
   ]
  },
  {
   "cell_type": "code",
   "execution_count": 4,
   "metadata": {},
   "outputs": [
    {
     "name": "stdout",
     "output_type": "stream",
     "text": [
      "File: <ipython-input-3-319e964b59a0>\n",
      "Function: x at line 3\n",
      "\n",
      "Line # Max usage   Peak usage diff max diff peak  Line Contents\n",
      "===============================================================\n",
      "     3                                           def x():\n",
      "     4     0.00B        2.00M    0.00B    2.00M      torch.nn.Linear(100, 100).cuda()\n",
      "\n",
      "File: <ipython-input-3-319e964b59a0>\n",
      "Function: y at line 6\n",
      "\n",
      "Line # Max usage   Peak usage diff max diff peak  Line Contents\n",
      "===============================================================\n",
      "     6                                           def y(gpu=0):\n",
      "     7     0.00B        2.00M    0.00B    2.00M      torch.nn.Linear(1000, 100).cuda(device=gpu)\n",
      "\n"
     ]
    }
   ],
   "source": [
    "%%mlrun -f x -f y\n",
    "\n",
    "x()\n",
    "y()"
   ]
  },
  {
   "cell_type": "markdown",
   "metadata": {},
   "source": [
    "You can alos profile with the `%mlrun` line magic"
   ]
  },
  {
   "cell_type": "code",
   "execution_count": 5,
   "metadata": {},
   "outputs": [
    {
     "name": "stdout",
     "output_type": "stream",
     "text": [
      "File: <ipython-input-5-b6fdc6192c4c>\n",
      "Function: z at line 1\n",
      "\n",
      "Line # Max usage   Peak usage diff max diff peak  Line Contents\n",
      "===============================================================\n",
      "     1                                           def z():\n",
      "     2     0.00B        2.00M    0.00B    2.00M      torch.nn.Linear(100, 100).cuda()\n",
      "\n"
     ]
    }
   ],
   "source": [
    "def z():\n",
    "    torch.nn.Linear(100, 100).cuda()\n",
    "%mlrun -f z z()"
   ]
  },
  {
   "cell_type": "markdown",
   "metadata": {},
   "source": [
    "You can specify which GPU you wish to profile using `-g`:"
   ]
  },
  {
   "cell_type": "code",
   "execution_count": 6,
   "metadata": {},
   "outputs": [
    {
     "name": "stdout",
     "output_type": "stream",
     "text": [
      "File: <ipython-input-3-319e964b59a0>\n",
      "Function: x at line 3\n",
      "\n",
      "Line # Max usage   Peak usage diff max diff peak  Line Contents\n",
      "===============================================================\n",
      "     3                                           def x():\n",
      "     4     0.00B        0.00B    0.00B    0.00B      torch.nn.Linear(100, 100).cuda()\n",
      "\n",
      "File: <ipython-input-3-319e964b59a0>\n",
      "Function: y at line 6\n",
      "\n",
      "Line # Max usage   Peak usage diff max diff peak  Line Contents\n",
      "===============================================================\n",
      "     6                                           def y(gpu=0):\n",
      "     7     0.00B        2.00M    0.00B    2.00M      torch.nn.Linear(1000, 100).cuda(device=gpu)\n",
      "\n"
     ]
    }
   ],
   "source": [
    "%%mlrun -f x -f y -g 1 y\n",
    "\n",
    "x()\n",
    "y(gpu=1)"
   ]
  },
  {
   "cell_type": "markdown",
   "metadata": {},
   "source": [
    "You can get a handle on the `LineProfiler` object using `-r`"
   ]
  },
  {
   "cell_type": "code",
   "execution_count": 7,
   "metadata": {},
   "outputs": [
    {
     "data": {
      "text/plain": [
       "{<code object x at 0x7f8dae4f6150, file \"<ipython-input-3-319e964b59a0>\", line 3>: {'line_stat': defaultdict(list,\n",
       "              {-1: [(0, 0)], 4: [(0, 2097152)]}),\n",
       "  'func': <function __main__.x()>,\n",
       "  'func_name': 'x',\n",
       "  'source_code': (['def x():\\n', '    torch.nn.Linear(100, 100).cuda()\\n'], 3),\n",
       "  'last_lineno': 0}}"
      ]
     },
     "execution_count": 7,
     "metadata": {},
     "output_type": "execute_result"
    }
   ],
   "source": [
    "profiler = %mlrun -q -r -f x x()\n",
    "profiler.code_map"
   ]
  },
  {
   "cell_type": "markdown",
   "metadata": {},
   "source": [
    "You can dump stats out to a file using `-T`:"
   ]
  },
  {
   "cell_type": "code",
   "execution_count": 8,
   "metadata": {},
   "outputs": [],
   "source": [
    "%mlrun -q -T profile.log -f x x()"
   ]
  },
  {
   "cell_type": "code",
   "execution_count": 9,
   "metadata": {},
   "outputs": [
    {
     "name": "stdout",
     "output_type": "stream",
     "text": [
      "File: <ipython-input-3-319e964b59a0>\n",
      "Function: x at line 3\n",
      "\n",
      "Line # Max usage   Peak usage diff max diff peak  Line Contents\n",
      "===============================================================\n",
      "     3                                           def x():\n",
      "     4     0.00B        2.00M    0.00B    2.00M      torch.nn.Linear(100, 100).cuda()\n",
      "\n"
     ]
    }
   ],
   "source": [
    "!head profile.log"
   ]
  }
 ],
 "metadata": {
  "kernelspec": {
   "display_name": "Python [conda env:memlab]",
   "language": "python",
   "name": "conda-env-memlab-py"
  },
  "language_info": {
   "codemirror_mode": {
    "name": "ipython",
    "version": 3
   },
   "file_extension": ".py",
   "mimetype": "text/x-python",
   "name": "python",
   "nbconvert_exporter": "python",
   "pygments_lexer": "ipython3",
   "version": "3.7.6"
  }
 },
 "nbformat": 4,
 "nbformat_minor": 4
}
